{
 "cells": [
  {
   "cell_type": "code",
   "execution_count": 1,
   "metadata": {},
   "outputs": [],
   "source": [
    "#This is a subtutorial to demonstrate how data quality information is stored"
   ]
  },
  {
   "cell_type": "code",
   "execution_count": 26,
   "metadata": {},
   "outputs": [
    {
     "name": "stdout",
     "output_type": "stream",
     "text": [
      "1.0.1\n"
     ]
    }
   ],
   "source": [
    "import numpy as np\n",
    "import matplotlib.pyplot as plt\n",
    "import h5py\n",
    "import math\n",
    "import gwpy\n",
    "print(gwpy.__version__)"
   ]
  },
  {
   "cell_type": "code",
   "execution_count": 3,
   "metadata": {},
   "outputs": [],
   "source": [
    "#--------------------\n",
    "# Read in H5PY file \n",
    "#--------------------\n",
    "\n",
    "filename = 'H-H1_LOSC_4_V1-815411200-4096.HDF5'\n",
    "dataFile = h5py.File(filename, 'r')"
   ]
  },
  {
   "cell_type": "code",
   "execution_count": 7,
   "metadata": {},
   "outputs": [
    {
     "name": "stdout",
     "output_type": "stream",
     "text": [
      "0 b'DATA'\n",
      "1 b'CBCHIGH_CAT1'\n",
      "2 b'CBCHIGH_CAT2'\n",
      "3 b'CBCHIGH_CAT3'\n",
      "4 b'CBCHIGH_CAT4'\n",
      "5 b'CBCLOW_CAT1'\n",
      "6 b'CBCLOW_CAT2'\n",
      "7 b'CBCLOW_CAT3'\n",
      "8 b'CBCLOW_CAT4'\n",
      "9 b'BURST_CAT1'\n",
      "10 b'BURST_CAT2'\n",
      "11 b'BURST_CAT3'\n",
      "12 b'BURST_CAT2E'\n",
      "13 b'BURST_CAT3E'\n",
      "14 b'CW_CAT1'\n",
      "15 b'STOCH_CAT1'\n",
      "16 b'STOCH_CAT2_H1L1'\n",
      "17 b'STOCH_CAT2_H2L1'\n"
     ]
    }
   ],
   "source": [
    "#----------------------------------------------------------------------------\n",
    "# Instantiate GPS start time, data quality information and list of bit names\n",
    "#----------------------------------------------------------------------------\n",
    "\n",
    "# Instantiates gpsStart with GPS start time from meta data\n",
    "gpsStart = dataFile['meta']['GPSstart']\n",
    "\n",
    "# Instantiates dqInfo with data quality information from quality data\n",
    "dqInfo = dataFile['quality']['simple']\n",
    "\n",
    "# Instantiates bitnameList with data quality names\n",
    "bitnameList = dqInfo['DQShortnames']\n",
    "nbits = len(bitnameList)\n",
    "\n",
    "# Print list of names of data quality flags up to length of nbits\n",
    "\n",
    "#------------------------------\n",
    "# Data Failure Categories List\n",
    "#------------------------------\n",
    "# DATA - failing this level indicates that GWOSC data is not available\n",
    "# CAT1 - failing this level indicates that there's a severe problem with this data and should not be searched for astrophysical signals\n",
    "# CAT2 - failing this level indicates that there was a major instrumental problem at the time of collection\n",
    "# CAT3 - failing this level indicates that there's a moderate concern or possible problem at the time of data collection; normally linked to data glitch levels\n",
    "# CAT4 - this level indicates that data quality has been maintained and can be used to search for astrophysical signals\n",
    "for bit in range(nbits):\n",
    "    #Note: inserted paranthesis \n",
    "    print(bit, bitnameList[bit])\n"
   ]
  },
  {
   "cell_type": "code",
   "execution_count": 28,
   "metadata": {},
   "outputs": [
    {
     "name": "stderr",
     "output_type": "stream",
     "text": [
      "C:\\Users\\LAnderson\\Anaconda3\\envs\\lscsoft\\lib\\site-packages\\ipykernel_launcher.py:4: H5pyDeprecationWarning: dataset.value has been deprecated. Use dataset[()] instead.\n",
      "  after removing the cwd from sys.path.\n"
     ]
    }
   ],
   "source": [
    "# Data quality categories are stored with in a bit mask array with 4096 entries\n",
    "# A bit mask is a binary number that represents something where 0 is unset and 1 is set; source https://blog.bitsrc.io/the-art-of-bitmasking-ec58ab1b4c03 \n",
    "\n",
    "qmask = dqInfo['DQmask'].value"
   ]
  },
  {
   "cell_type": "code",
   "execution_count": 29,
   "metadata": {},
   "outputs": [],
   "source": [
    "# To unpack the DATA and BURST category\n",
    "\n",
    "sci = (qmask >> 0) & 1\n",
    "burst1 = (qmask >> 9) & 1"
   ]
  },
  {
   "cell_type": "code",
   "execution_count": 30,
   "metadata": {},
   "outputs": [],
   "source": [
    "goodData_1hz = sci & burst1"
   ]
  },
  {
   "cell_type": "code",
   "execution_count": 31,
   "metadata": {},
   "outputs": [
    {
     "data": {
      "text/plain": [
       "Text(0.5, 0, 'Time (s)')"
      ]
     },
     "execution_count": 31,
     "metadata": {},
     "output_type": "execute_result"
    },
    {
     "data": {
      "image/png": "[encoded data removed]",
      "text/plain": [
       "<Figure size 432x288 with 1 Axes>"
      ]
     },
     "metadata": {
      "needs_background": "light"
     },
     "output_type": "display_data"
    }
   ],
   "source": [
    "plt.plot(goodData_1hz + 4, label='Good_Data')\n",
    "plt.plot(burst1 + 2, label='BURST_CAT1')\n",
    "plt.plot(sci, label='DATA')\n",
    "plt.axis([0, 4096, -1, 8])\n",
    "plt.legend(loc=1)\n",
    "plt.xlabel('Time (s)')"
   ]
  },
  {
   "cell_type": "code",
   "execution_count": null,
   "metadata": {},
   "outputs": [],
   "source": []
  },
  {
   "cell_type": "code",
   "execution_count": null,
   "metadata": {},
   "outputs": [],
   "source": []
  }
 ],
 "metadata": {
  "kernelspec": {
   "display_name": "Python 3",
   "language": "python",
   "name": "python3"
  },
  "language_info": {
   "codemirror_mode": {
    "name": "ipython",
    "version": 3
   },
   "file_extension": ".py",
   "mimetype": "text/x-python",
   "name": "python",
   "nbconvert_exporter": "python",
   "pygments_lexer": "ipython3",
   "version": "3.7.6"
  }
 },
 "nbformat": 4,
 "nbformat_minor": 2
}
